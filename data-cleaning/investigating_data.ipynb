{
 "cells": [
  {
   "cell_type": "code",
   "execution_count": 2,
   "id": "6bb13144",
   "metadata": {},
   "outputs": [],
   "source": [
    "# loading data into a dataframe to start validating and cleaning\n",
    "import pandas as pd\n",
    "historic_df = pd.read_csv(r\"C:\\Users\\jakes\\OneDrive\\Desktop\\Github\\Data\\historic-trading-data\\historic_data.csv\")"
   ]
  },
  {
   "cell_type": "code",
   "execution_count": 3,
   "id": "0c6bc604",
   "metadata": {},
   "outputs": [
    {
     "name": "stdout",
     "output_type": "stream",
     "text": [
      "ticker                128\n",
      "open                    0\n",
      "high                    0\n",
      "low                     0\n",
      "close                   0\n",
      "volume                  0\n",
      "vwap                11281\n",
      "timestamp               0\n",
      "transactions        11277\n",
      "otc               1446604\n",
      "trading_date            0\n",
      "retrieved_date          0\n",
      "dtype: int64\n"
     ]
    }
   ],
   "source": [
    "# checking which columns have null values\n",
    "print(historic_df.isnull().sum())"
   ]
  },
  {
   "cell_type": "code",
   "execution_count": 4,
   "id": "d452e593",
   "metadata": {},
   "outputs": [
    {
     "name": "stdout",
     "output_type": "stream",
     "text": [
      "        ticker   open    high     low  close   volume    vwap      timestamp  \\\n",
      "9626       NaN  4.860  4.9700  4.5000   4.85  10465.0  4.7736  1745956800000   \n",
      "24819      NaN  4.730  4.9000  4.4700   4.89   7698.0  4.7437  1746043200000   \n",
      "41279      NaN  4.710  4.8900  4.7100   4.78   1818.0  4.7595  1746129600000   \n",
      "55925      NaN  4.830  4.9700  4.5709   4.86   9993.0  4.8131  1746216000000   \n",
      "65688      NaN  4.850  4.9562  4.6700   4.68   2524.0  4.7755  1746475200000   \n",
      "...        ...    ...     ...     ...    ...      ...     ...            ...   \n",
      "1910972    NaN  4.835  4.9900  4.6101   4.83  52193.0  4.8040  1761249600000   \n",
      "1922978    NaN  4.890  4.9475  4.7800   4.87  48210.0  4.8396  1761336000000   \n",
      "1938092    NaN  4.830  4.9400  4.7401   4.78  34731.0  4.8256  1761595200000   \n",
      "1957700    NaN  4.780  4.8085  4.6300   4.77  37035.0  4.7206  1761681600000   \n",
      "1975653    NaN  4.700  4.7600  4.5300   4.65  27560.0  4.6249  1761768000000   \n",
      "\n",
      "         transactions  otc trading_date              retrieved_date  \n",
      "9626            423.0  NaN   2025-04-29  2025-10-30 14:00:11.280192  \n",
      "24819           367.0  NaN   2025-04-30  2025-10-30 14:00:32.344878  \n",
      "41279           224.0  NaN   2025-05-01  2025-10-30 14:00:53.440533  \n",
      "55925           238.0  NaN   2025-05-02  2025-10-30 14:01:18.268466  \n",
      "65688           119.0  NaN   2025-05-05  2025-10-30 14:01:39.217191  \n",
      "...               ...  ...          ...                         ...  \n",
      "1910972         363.0  NaN   2025-10-23  2025-10-30 14:43:33.157474  \n",
      "1922978         501.0  NaN   2025-10-24  2025-10-30 14:43:54.198720  \n",
      "1938092         393.0  NaN   2025-10-27  2025-10-30 14:44:15.247484  \n",
      "1957700         386.0  NaN   2025-10-28  2025-10-30 14:44:36.615219  \n",
      "1975653         346.0  NaN   2025-10-29  2025-10-30 14:44:58.444253  \n",
      "\n",
      "[128 rows x 12 columns]\n"
     ]
    }
   ],
   "source": [
    "# checking null ticker data - appears to relate to one isolated stock based on consistancy of the price (perhaps a summary from polygon without a ticker or corrupted by polygon's api)\n",
    "# decision is to drop these rows, as it only relates to 128 rows from the million+ currently in the dataframe \n",
    "print(historic_df[historic_df['ticker'].isna()])"
   ]
  },
  {
   "cell_type": "code",
   "execution_count": 5,
   "id": "b89d54dd",
   "metadata": {},
   "outputs": [
    {
     "name": "stdout",
     "output_type": "stream",
     "text": [
      "11277\n"
     ]
    }
   ],
   "source": [
    "print(len(historic_df.query(\"vwap.isna() and transactions.isna()\")))"
   ]
  },
  {
   "cell_type": "code",
   "execution_count": 6,
   "id": "a8560337",
   "metadata": {},
   "outputs": [
    {
     "name": "stdout",
     "output_type": "stream",
     "text": [
      "Empty DataFrame\n",
      "Columns: [ticker, open, high, low, close, volume, vwap, timestamp, transactions, otc, trading_date, retrieved_date]\n",
      "Index: []\n"
     ]
    }
   ],
   "source": [
    "# confirms the 11277 instances where transactions and VWAP are null are related to the volume on those days being 0\n",
    "print(historic_df.query(\"transactions.isna() and volume > 0\"))"
   ]
  },
  {
   "cell_type": "code",
   "execution_count": 7,
   "id": "902ac38a",
   "metadata": {},
   "outputs": [
    {
     "name": "stdout",
     "output_type": "stream",
     "text": [
      "       ticker  open  high  low  close  volume  vwap      timestamp  \\\n",
      "164641  AETHF   0.0   0.0  0.0    0.0   300.0   NaN  1747166400000   \n",
      "217629  RMANF   0.0   0.0  0.0    0.0  4275.0   NaN  1747684800000   \n",
      "543009  AETHF   0.0   0.0  0.0    0.0   800.0   NaN  1750276800000   \n",
      "573100  AETHF   0.0   0.0  0.0    0.0   200.0   NaN  1750708800000   \n",
      "\n",
      "        transactions   otc trading_date              retrieved_date  \n",
      "164641           1.0  True   2025-05-13  2025-10-30 14:03:46.110134  \n",
      "217629           1.0  True   2025-05-19  2025-10-30 14:05:11.254992  \n",
      "543009           1.0  True   2025-06-18  2025-10-30 14:12:32.926011  \n",
      "573100           1.0  True   2025-06-23  2025-10-30 14:13:14.949956  \n"
     ]
    }
   ],
   "source": [
    "# confirms instances with null vwap but without null transactions relate to low marketcap stocks which the polygon API did not obtain the trading prices for\n",
    "print(historic_df.query(\"vwap.isna() and transactions.notna()\"))"
   ]
  },
  {
   "cell_type": "code",
   "execution_count": 8,
   "id": "65112757",
   "metadata": {},
   "outputs": [],
   "source": [
    "# retaining NULL transactions and VWAP - filtered at VIEW level in SQL\n",
    "# preserves distinction between true zero and unknown/missing values\n",
    "\n",
    "# dropping OTC column as lack of value for the planned analysis based only on a boolean value\n",
    "historic_df = historic_df.drop(['otc'], axis='columns')\n",
    "# dropping null tickers as there is no value to be gained from these\n",
    "historic_df = historic_df.dropna(subset=['ticker'])\n",
    "\n",
    "# saving the cleaned historic data\n",
    "historic_df.to_csv('historic_data.csv', index=False)"
   ]
  }
 ],
 "metadata": {
  "kernelspec": {
   "display_name": "Python 3",
   "language": "python",
   "name": "python3"
  },
  "language_info": {
   "codemirror_mode": {
    "name": "ipython",
    "version": 3
   },
   "file_extension": ".py",
   "mimetype": "text/x-python",
   "name": "python",
   "nbconvert_exporter": "python",
   "pygments_lexer": "ipython3",
   "version": "3.11.3"
  }
 },
 "nbformat": 4,
 "nbformat_minor": 5
}
